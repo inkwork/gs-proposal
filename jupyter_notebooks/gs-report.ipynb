{
 "cells": [
  {
   "cell_type": "raw",
   "metadata": {},
   "source": [
    "<script>\n",
    "  function code_toggle() {\n",
    "    if (code_shown){\n",
    "      $('div.input').hide('500');\n",
    "      $('#toggleButton').val('Show Code')\n",
    "    } else {\n",
    "      $('div.input').show('500');\n",
    "      $('#toggleButton').val('Hide Code')\n",
    "    }\n",
    "    code_shown = !code_shown\n",
    "  }\n",
    "\n",
    "  $( document ).ready(function(){\n",
    "    code_shown=false;\n",
    "    $('div.input').hide()\n",
    "  });\n",
    "</script>\n",
    "<form action=\"javascript:code_toggle()\">\n",
    "  <input type=\"submit\" id=\"toggleButton\" value=\"Show Code\">\n",
    "</form>"
   ]
  },
  {
   "cell_type": "code",
   "execution_count": 1,
   "metadata": {},
   "outputs": [
    {
     "data": {
      "text/html": [
       "<script type=\"text/javascript\">window.PlotlyConfig = {MathJaxConfig: 'local'};</script><script type=\"text/javascript\">if (window.MathJax) {MathJax.Hub.Config({SVG: {font: \"STIX-Web\"}});}</script><script>requirejs.config({paths: { 'plotly': ['https://cdn.plot.ly/plotly-latest.min']},});if(!window._Plotly) {require(['plotly'],function(plotly) {window._Plotly=plotly;});}</script>"
      ],
      "text/vnd.plotly.v1+html": [
       "<script type=\"text/javascript\">window.PlotlyConfig = {MathJaxConfig: 'local'};</script><script type=\"text/javascript\">if (window.MathJax) {MathJax.Hub.Config({SVG: {font: \"STIX-Web\"}});}</script><script>requirejs.config({paths: { 'plotly': ['https://cdn.plot.ly/plotly-latest.min']},});if(!window._Plotly) {require(['plotly'],function(plotly) {window._Plotly=plotly;});}</script>"
      ]
     },
     "metadata": {},
     "output_type": "display_data"
    }
   ],
   "source": [
    "import plotly\n",
    "import plotly.graph_objs as go\n",
    "\n",
    "import numpy as np\n",
    "\n",
    "plotly.offline.init_notebook_mode(connected=True)"
   ]
  },
  {
   "cell_type": "markdown",
   "metadata": {},
   "source": [
    "# Generic Sans [Category]\n",
    "\n",
    "**Description**: extension of the Generic Sans typeface\n",
    "\n",
    "**Phase**: Planning, Design, Engineering, Release\n",
    "\n",
    "**Start Date**: 1/1/19\n",
    "\n",
    "**Proposed End Date**: 6/1/20\n",
    "\n",
    "**Estimated End Date**: 6/1/20\n",
    "\n",
    "**Foundry Team**:\n",
    "\n",
    "  *Example Foundry (Paris, France)*\n",
    "  - Jessica S. (design lead) (jessica@example-foundry.com)\n",
    "  - Tom J. (engineering lead) (tom@example-foundry.com)\n",
    "\n",
    "**Google Stakeholders**:\n",
    "  - Tony A. (Moogle Fonts Program Manager) (ta@moogle.com)\n",
    "  - Mary Z. (Moogle Fonts Engineering Lead) (mz@moogle.com)\n",
    "  - Todd L. (Immaterial Design Lead) (tl@moogle.com)\n",
    "  \n",
    "## Project Status\n"
   ]
  },
  {
   "cell_type": "code",
   "execution_count": 10,
   "metadata": {},
   "outputs": [
    {
     "data": {
      "application/vnd.plotly.v1+json": {
       "config": {
        "linkText": "Export to plot.ly",
        "plotlyServerURL": "https://plot.ly",
        "showLink": false
       },
       "data": [
        {
         "cells": {
          "align": "center",
          "fill": {
           "color": [
            "rgb(250,42,0)",
            "rgb(209,231,81)"
           ]
          },
          "font": {
           "color": "black",
           "size": 15
          },
          "height": 15,
          "line": {
           "color": [
            "rgb(250,42,0)",
            "rgb(209,231,81)"
           ]
          },
          "values": [
           "",
           ""
          ]
         },
         "header": {
          "align": "center",
          "fill": {
           "color": "white"
          },
          "font": {
           "color": "black",
           "size": 20
          },
          "line": {
           "color": "white"
          },
          "values": [
           "<b>Schedule</b>",
           "<b>QA</b>"
          ]
         },
         "type": "table",
         "uid": "d636d5a8-5fea-467b-89e0-f64bf2beedb1"
        }
       ],
       "layout": {
        "height": 250
       }
      },
      "text/html": [
       "<div id=\"fca69da4-9a4a-4ad0-8c10-a24e22732689\" style=\"height: 250px; width: 100%;\" class=\"plotly-graph-div\"></div><script type=\"text/javascript\">require([\"plotly\"], function(Plotly) { window.PLOTLYENV=window.PLOTLYENV || {};window.PLOTLYENV.BASE_URL=\"https://plot.ly\";Plotly.newPlot(\"fca69da4-9a4a-4ad0-8c10-a24e22732689\", [{\"cells\": {\"align\": \"center\", \"fill\": {\"color\": [\"rgb(250,42,0)\", \"rgb(209,231,81)\"]}, \"font\": {\"color\": \"black\", \"size\": 15}, \"height\": 15, \"line\": {\"color\": [\"rgb(250,42,0)\", \"rgb(209,231,81)\"]}, \"values\": [\"\", \"\"]}, \"header\": {\"align\": \"center\", \"fill\": {\"color\": \"white\"}, \"font\": {\"color\": \"black\", \"size\": 20}, \"line\": {\"color\": \"white\"}, \"values\": [\"<b>Schedule</b>\", \"<b>QA</b>\"]}, \"type\": \"table\", \"uid\": \"cb49f279-5efa-4406-90be-5ccd8fa3522e\"}], {\"height\": 250}, {\"showLink\": false, \"linkText\": \"Export to plot.ly\", \"plotlyServerURL\": \"https://plot.ly\"})});</script><script type=\"text/javascript\">window.addEventListener(\"resize\", function(){window._Plotly.Plots.resize(document.getElementById(\"fca69da4-9a4a-4ad0-8c10-a24e22732689\"));});</script>"
      ],
      "text/vnd.plotly.v1+html": [
       "<div id=\"fca69da4-9a4a-4ad0-8c10-a24e22732689\" style=\"height: 250px; width: 100%;\" class=\"plotly-graph-div\"></div><script type=\"text/javascript\">require([\"plotly\"], function(Plotly) { window.PLOTLYENV=window.PLOTLYENV || {};window.PLOTLYENV.BASE_URL=\"https://plot.ly\";Plotly.newPlot(\"fca69da4-9a4a-4ad0-8c10-a24e22732689\", [{\"cells\": {\"align\": \"center\", \"fill\": {\"color\": [\"rgb(250,42,0)\", \"rgb(209,231,81)\"]}, \"font\": {\"color\": \"black\", \"size\": 15}, \"height\": 15, \"line\": {\"color\": [\"rgb(250,42,0)\", \"rgb(209,231,81)\"]}, \"values\": [\"\", \"\"]}, \"header\": {\"align\": \"center\", \"fill\": {\"color\": \"white\"}, \"font\": {\"color\": \"black\", \"size\": 20}, \"line\": {\"color\": \"white\"}, \"values\": [\"<b>Schedule</b>\", \"<b>QA</b>\"]}, \"type\": \"table\", \"uid\": \"cb49f279-5efa-4406-90be-5ccd8fa3522e\"}], {\"height\": 250}, {\"showLink\": false, \"linkText\": \"Export to plot.ly\", \"plotlyServerURL\": \"https://plot.ly\"})});</script><script type=\"text/javascript\">window.addEventListener(\"resize\", function(){window._Plotly.Plots.resize(document.getElementById(\"fca69da4-9a4a-4ad0-8c10-a24e22732689\"));});</script>"
      ]
     },
     "metadata": {},
     "output_type": "display_data"
    }
   ],
   "source": [
    "# 0 = OK, 1 = WARN\n",
    "\n",
    "SCHEDULE = 2\n",
    "QA = 0\n",
    "\n",
    "OK_COLOR = \"rgb(209,231,81)\"\n",
    "WARN_COLOR = \"rgb(252,145,58)\"\n",
    "FAIL_COLOR = \"rgb(250,42,0)\"\n",
    "\n",
    "if SCHEDULE == 0:\n",
    "    SCHEDULE_COLOR = OK_COLOR\n",
    "elif SCHEDULE == 1:\n",
    "    SCHEDULE_COLOR = WARN_COLOR\n",
    "else:\n",
    "    SCHEDULE_COLOR = FAIL_COLOR\n",
    "    \n",
    "if QA == 0:\n",
    "    QA_COLOR = OK_COLOR\n",
    "elif QA == 1:\n",
    "    QA_COLOR = WARN_COLOR\n",
    "else:\n",
    "    QA_COLOR = FAIL_COLOR\n",
    "\n",
    "colors = np.array([SCHEDULE_COLOR, QA_COLOR])\n",
    "\n",
    "trace0 = go.Table(\n",
    "  header = dict(\n",
    "    values = ['<b>Schedule</b>', '<b>QA</b>'],\n",
    "    line = dict(color = 'white'),\n",
    "    fill = dict(color = 'white'),\n",
    "    align = 'center',\n",
    "    font = dict(color = 'black', size = 20)\n",
    "  ),\n",
    "  cells = dict(\n",
    "    values = [\"\", \"\"],\n",
    "    line = dict(color = colors),\n",
    "    fill = dict(color = colors),\n",
    "    align = 'center',\n",
    "    height = 15,\n",
    "    font = dict(color = \"black\", size = 15)\n",
    "    ))\n",
    "\n",
    "data = [trace0]\n",
    "layout = dict(height=250)\n",
    "fig = dict(data=data, layout=layout)\n",
    "\n",
    "plotly.offline.iplot(fig)"
   ]
  },
  {
   "cell_type": "markdown",
   "metadata": {},
   "source": [
    "\n",
    "## Schedule Performance\n",
    "\n",
    "### Current Milestone\n",
    "\n",
    "**Title**: [milestone title]\n",
    "\n",
    "**Associated Documentation**: [URL]"
   ]
  },
  {
   "cell_type": "code",
   "execution_count": null,
   "metadata": {},
   "outputs": [],
   "source": [
    "bd_x = [\"0\", \"1\", \"2\", \"3\", \"4\", \"5\", \"6\", \"7\", \"8\", \"9\", \"10\", \"11\", \"12\", \"13\", \"14\"]\n",
    "bd_y1 = [\"163.0\", \"151.4\", \"139.7\", \"128.1\", \"116.4\", \"104.8\", \"93.1\", \"81.5\", \"69.9\", \"58.2\", \"46.6\", \"34.9\", \"23.3\", \"11.6\", \"0.0\"]\n",
    "bd_y2 = [\"163\", \"163\", \"163\", \"134\", \"130\", \"108\", \"108\", \"73\", \"73\", \"73\", \"48\", \"42\", \"37\", \"37\", \"18\"]\n",
    "\n",
    "color_orange = \"rgb(205,12,24)\"\n",
    "color_red = \"rgb(188,1,0)\"\n",
    "color_green = \"rgb(209,231,81)\"\n",
    "color_blue = \"rgb(77,188,233)\"\n",
    "color_dkgrey = \"rgb(44,50,48)\"\n",
    "\n",
    "trace1 = go.Scatter(\n",
    "    x = bd_x,\n",
    "    y = bd_y1,\n",
    "    name = \"Expected\",\n",
    "    line = dict(\n",
    "        color = (color_dkgrey),\n",
    "        width = 5,\n",
    "        dash = 'dash'\n",
    "    )\n",
    ")\n",
    "\n",
    "trace2 = go.Scatter (\n",
    "    x = bd_x,\n",
    "    y = bd_y2,\n",
    "    name = \"Observed\",\n",
    "    line = dict(\n",
    "        color = (color_blue),\n",
    "        width = 5,\n",
    "    )\n",
    ")\n",
    "\n",
    "data = [trace1, trace2]\n",
    "\n",
    "layout = dict(title = 'GenericSans Burndown Chart',\n",
    "              xaxis = dict(title = 'Time (weeks)'),\n",
    "              yaxis = dict(title = 'Glyphs Remaining'),\n",
    "              )\n",
    "\n",
    "fig = dict(data=data, layout=layout)\n",
    "\n",
    "plotly.offline.iplot(fig)"
   ]
  },
  {
   "cell_type": "code",
   "execution_count": null,
   "metadata": {},
   "outputs": [],
   "source": [
    "from IPython.display import IFrame\n",
    "IFrame(\"./pdf/gantt.pdf\", width=900, height=400)"
   ]
  },
  {
   "cell_type": "markdown",
   "metadata": {},
   "source": [
    "**Begin Date**: 12/1/00\n",
    "\n",
    "**Proposed End Date**: 1/1/01\n",
    "\n",
    "**Estimated End Date**: 2/1/01\n",
    "\n",
    "**Variance Narrative**: [Free text or N/A]\n",
    "\n",
    "**Corrective Action Plan**: [Free text or N/A]\n",
    "\n",
    "- cause of variance\n",
    "- impact of variance\n",
    "- need to rebaseline schedule and modify estimated end date above\n",
    "\n",
    "\n",
    "### Next Milestone\n",
    "\n",
    "**Title**: [milestone title]\n",
    "\n",
    "**Proposed Start Date**: 2/2/01\n",
    "\n",
    "**Estimated Start Date**: 2/2/01"
   ]
  },
  {
   "cell_type": "markdown",
   "metadata": {},
   "source": [
    "## Metric 1"
   ]
  },
  {
   "cell_type": "code",
   "execution_count": null,
   "metadata": {
    "scrolled": false
   },
   "outputs": [],
   "source": [
    "# Create random data with numpy\n",
    "import numpy as np\n",
    "\n",
    "trace1 = go.Scatter(\n",
    "    y = np.random.randn(500),\n",
    "    mode='markers',\n",
    "    marker=dict(\n",
    "        size=16,\n",
    "        color = np.random.randn(500), #set color equal to a variable\n",
    "        colorscale='Viridis',\n",
    "        showscale=True\n",
    "    )\n",
    ")\n",
    "data = [trace1]\n",
    "\n",
    "# Plot and embed in ipython notebook!\n",
    "plotly.offline.iplot({\n",
    "    \"data\": data,\n",
    "    \"layout\": go.Layout(title=\"Scatter Metric\")\n",
    "},\n",
    "    image='png',\n",
    "    filename='scatterplot',\n",
    ")\n"
   ]
  },
  {
   "cell_type": "markdown",
   "metadata": {},
   "source": [
    "### Metric 2"
   ]
  },
  {
   "cell_type": "code",
   "execution_count": null,
   "metadata": {},
   "outputs": [],
   "source": [
    "labels = ['Not Started','Dev: Concept','Dev: Revision', 'Dev: Mastering', 'Final']\n",
    "values = [4500,2500,1053,987, 500]\n",
    "\n",
    "trace = go.Pie(labels=labels, values=values, opacity=0.9,)\n",
    "\n",
    "plotly.offline.iplot(\n",
    "    {\"data\": [trace], \"layout\": go.Layout(title=\"Glyph Development Phase\")},\n",
    "    image='png',\n",
    "    filename='pieplot',\n",
    ")"
   ]
  },
  {
   "cell_type": "markdown",
   "metadata": {},
   "source": [
    "### Metric 3"
   ]
  },
  {
   "cell_type": "code",
   "execution_count": null,
   "metadata": {},
   "outputs": [],
   "source": [
    "x = ['Product A', 'Product B', 'Product C']\n",
    "y = [20, 14, 23]\n",
    "y2 = [16,12,27]\n",
    "\n",
    "trace1 = go.Bar(\n",
    "    x=x,\n",
    "    y=y,\n",
    "    text=y,\n",
    "    textposition = 'auto',\n",
    "    marker=dict(\n",
    "        color='rgb(158,202,225)',\n",
    "        line=dict(\n",
    "            color='rgb(8,48,107)',\n",
    "            width=1.5),\n",
    "        ),\n",
    "    opacity=0.6\n",
    ")\n",
    "\n",
    "trace2 = go.Bar(\n",
    "    x=x,\n",
    "    y=y2,\n",
    "    text=y2,\n",
    "    textposition = 'auto',\n",
    "    marker=dict(\n",
    "        color='rgb(58,200,225)',\n",
    "        line=dict(\n",
    "            color='rgb(8,48,107)',\n",
    "            width=1.5),\n",
    "        ),\n",
    "    opacity=0.6\n",
    ")\n",
    "\n",
    "data = [trace1,trace2]\n",
    "\n",
    "plotly.offline.iplot(\n",
    "    data, \n",
    "    filename='grouped-bar-direct-labels', \n",
    "    image='png'\n",
    ")"
   ]
  },
  {
   "cell_type": "markdown",
   "metadata": {},
   "source": [
    "### Commits in the Last [X PERIOD]"
   ]
  },
  {
   "cell_type": "markdown",
   "metadata": {},
   "source": [
    "\n",
    "*Mockup of remote data pull (e.g., `git clone`) and system executable standard output rendering with some form of analysis/informative output rendering*\n"
   ]
  },
  {
   "cell_type": "markdown",
   "metadata": {},
   "source": [
    "```\n",
    "84ebd94 - Thu Jun 7 09:51:05 2018 -0400, 2 days ago : [README.md] updated build documentation\n",
    "cdf4a0d - Sun Jun 3 22:10:58 2018 -0400, 6 days ago : added uXXXX\n",
    "fc885d6 - Sun Jun 3 22:05:34 2018 -0400, 6 days ago : Merge branch 'dev' into master-merge\n",
    "4030331 - Sun Jun 3 21:59:28 2018 -0400, 6 days ago : added uXXXX\n",
    "e8084b4 - Sun Jun 3 21:44:50 2018 -0400, 6 days ago : modified uXXXX with this\n",
    "139284e - Sun Jun 3 21:44:27 2018 -0400, 6 days ago : modified uXXXX with that\n",
    "e2d8dab - Sun Jun 3 21:44:13 2018 -0400, 6 days ago : added uXXXX, uXXXX, uXXXX\n",
    "1b3142e - Sun Jun 3 21:39:45 2018 -0400, 6 days ago : fixed descender on uXXXX\n",
    "c396812 - Sun Jun 3 21:26:07 2018 -0400, 6 days ago : changed style of uXXXX to that\n",
    "\n",
    "```"
   ]
  },
  {
   "cell_type": "markdown",
   "metadata": {},
   "source": [
    "### Design Team Narrative\n",
    "\n",
    "*Mockup of remote text metadata / narrative pull from design repository(ies)*\n",
    "\n",
    "```\n",
    "Lorem ipsum dolor sit amet, ea eum fuisset oportere, vis ne errem maiorum. His cu fabulas adversarium concludaturque. Eius apeirian in vim, vis liber homero admodum ad. Quem sonet sit ad.\n",
    "\n",
    "In pri erroribus laboramus accommodare, eu tempor petentium his. Ne salutatus incorrupte mediocritatem mea, id appareat consequat cum. Nec ne vero fabulas salutatus, an tempor putant vim, ad magna noster nec. Purto populo mel eu, persius iracundia temporibus has at, splendide dissentias sed ei. Amet invidunt est an. Sea justo perfecto invenire cu, prima facete quaerendum an sed.\n",
    "\n",
    "Laoreet dolores tincidunt vis id, ei pro delicata appellantur. Ut eam populo rationibus, nostrud qualisque nec cu. At mentitum consetetur reprimique est, et eam putant epicurei, an qui enim utinam copiosae. Ut alia platonem eloquentiam eam.\n",
    "\n",
    "Sed verear propriae persecuti an, ut principes temporibus pri. Sea in maluisset cotidieque. In mei paulo facilis adversarium. Illud omnesque vivendum ea his, legimus gubergren ad vis. Lobortis convenire posidonium ex sea, te stet porro elitr quo.\n",
    "```"
   ]
  },
  {
   "cell_type": "markdown",
   "metadata": {},
   "source": [
    "## Product Changelog\n",
    "\n",
    "### New\n",
    "\n",
    "- new glyph 1 with image at commit SHA1 hash\n",
    "- new glyph 2 with image at commit SHA1 hash\n"
   ]
  },
  {
   "cell_type": "code",
   "execution_count": null,
   "metadata": {
    "scrolled": true
   },
   "outputs": [],
   "source": [
    "from IPython.display import IFrame\n",
    "IFrame(\"./pdf/test.pdf\", width=600, height=300)"
   ]
  },
  {
   "cell_type": "markdown",
   "metadata": {},
   "source": [
    "### Modified\n",
    "\n",
    "- glyph 1 with image at commit SHA1 hash\n",
    "- glyph 2 with image at commit SHA1 hash\n",
    "\n",
    "### Removed\n",
    "\n",
    "- topic 1 at commit SHA1 hash\n",
    "- topic 1 at commit SHA1 hash\n",
    "\n",
    "\n",
    "## Product Quality Assessment\n",
    "\n",
    "### Design QA\n",
    "\n",
    "[Feedback from external audits/Firm teams/etc]\n",
    "\n",
    "### Technical/Engineering QA\n",
    "\n",
    "[Font Bakery testing report, etc.]\n",
    "\n",
    "### Integration QA\n",
    "\n",
    "[Examples of changes in prototypes/mockups of use cases]\n",
    "\n",
    "\n",
    "## Communication and Decisions\n",
    "\n",
    "### To Firm Comms\n",
    "\n",
    "- [X] CS to DC - this, OK'd by DC\n",
    "- [X] CS to XX - that, OK'd by XX\n",
    "\n",
    "### From Firm Comms\n",
    "\n",
    "- [X] DC to EE - this, OK'd by EE\n",
    "- [X] DC to FF - that, OK'd by FF\n",
    "\n",
    "\n",
    "## Action Items\n",
    "\n",
    "- [ ] who - what - when\n",
    "- [ ] who - what - when\n",
    "- [ ] who - what - when"
   ]
  },
  {
   "cell_type": "code",
   "execution_count": null,
   "metadata": {},
   "outputs": [],
   "source": [
    "import datetime\n",
    "today = datetime.date.today()\n",
    "print(today.strftime(\"Report generated on %b-%d-%Y\"))"
   ]
  }
 ],
 "metadata": {
  "kernelspec": {
   "display_name": "Python 3",
   "language": "python",
   "name": "python3"
  },
  "language_info": {
   "codemirror_mode": {
    "name": "ipython",
    "version": 3
   },
   "file_extension": ".py",
   "mimetype": "text/x-python",
   "name": "python",
   "nbconvert_exporter": "python",
   "pygments_lexer": "ipython3",
   "version": "3.7.2"
  }
 },
 "nbformat": 4,
 "nbformat_minor": 2
}
